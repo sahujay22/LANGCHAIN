{
  "cells": [
    {
      "cell_type": "code",
      "execution_count": 1,
      "metadata": {
        "id": "SeDS3watajVU"
      },
      "outputs": [],
      "source": [
        "# DOCUMENT LOADER"
      ]
    },
    {
      "cell_type": "code",
      "execution_count": 2,
      "metadata": {
        "colab": {
          "base_uri": "https://localhost:8080/"
        },
        "id": "6l9Ctzq-akw2",
        "outputId": "63772490-fc4c-4d61-ca6d-d256d4441c90",
        "collapsed": true
      },
      "outputs": [
        {
          "output_type": "stream",
          "name": "stdout",
          "text": [
            "Requirement already satisfied: langchain in /usr/local/lib/python3.10/dist-packages (0.2.1)\n",
            "Requirement already satisfied: PyYAML>=5.3 in /usr/local/lib/python3.10/dist-packages (from langchain) (6.0.1)\n",
            "Requirement already satisfied: SQLAlchemy<3,>=1.4 in /usr/local/lib/python3.10/dist-packages (from langchain) (2.0.30)\n",
            "Requirement already satisfied: aiohttp<4.0.0,>=3.8.3 in /usr/local/lib/python3.10/dist-packages (from langchain) (3.9.5)\n",
            "Requirement already satisfied: async-timeout<5.0.0,>=4.0.0 in /usr/local/lib/python3.10/dist-packages (from langchain) (4.0.3)\n",
            "Requirement already satisfied: langchain-core<0.3.0,>=0.2.0 in /usr/local/lib/python3.10/dist-packages (from langchain) (0.2.3)\n",
            "Requirement already satisfied: langchain-text-splitters<0.3.0,>=0.2.0 in /usr/local/lib/python3.10/dist-packages (from langchain) (0.2.0)\n",
            "Requirement already satisfied: langsmith<0.2.0,>=0.1.17 in /usr/local/lib/python3.10/dist-packages (from langchain) (0.1.67)\n",
            "Requirement already satisfied: numpy<2,>=1 in /usr/local/lib/python3.10/dist-packages (from langchain) (1.25.2)\n",
            "Requirement already satisfied: pydantic<3,>=1 in /usr/local/lib/python3.10/dist-packages (from langchain) (2.7.1)\n",
            "Requirement already satisfied: requests<3,>=2 in /usr/local/lib/python3.10/dist-packages (from langchain) (2.31.0)\n",
            "Requirement already satisfied: tenacity<9.0.0,>=8.1.0 in /usr/local/lib/python3.10/dist-packages (from langchain) (8.3.0)\n",
            "Requirement already satisfied: aiosignal>=1.1.2 in /usr/local/lib/python3.10/dist-packages (from aiohttp<4.0.0,>=3.8.3->langchain) (1.3.1)\n",
            "Requirement already satisfied: attrs>=17.3.0 in /usr/local/lib/python3.10/dist-packages (from aiohttp<4.0.0,>=3.8.3->langchain) (23.2.0)\n",
            "Requirement already satisfied: frozenlist>=1.1.1 in /usr/local/lib/python3.10/dist-packages (from aiohttp<4.0.0,>=3.8.3->langchain) (1.4.1)\n",
            "Requirement already satisfied: multidict<7.0,>=4.5 in /usr/local/lib/python3.10/dist-packages (from aiohttp<4.0.0,>=3.8.3->langchain) (6.0.5)\n",
            "Requirement already satisfied: yarl<2.0,>=1.0 in /usr/local/lib/python3.10/dist-packages (from aiohttp<4.0.0,>=3.8.3->langchain) (1.9.4)\n",
            "Requirement already satisfied: jsonpatch<2.0,>=1.33 in /usr/local/lib/python3.10/dist-packages (from langchain-core<0.3.0,>=0.2.0->langchain) (1.33)\n",
            "Requirement already satisfied: packaging<24.0,>=23.2 in /usr/local/lib/python3.10/dist-packages (from langchain-core<0.3.0,>=0.2.0->langchain) (23.2)\n",
            "Requirement already satisfied: orjson<4.0.0,>=3.9.14 in /usr/local/lib/python3.10/dist-packages (from langsmith<0.2.0,>=0.1.17->langchain) (3.10.3)\n",
            "Requirement already satisfied: annotated-types>=0.4.0 in /usr/local/lib/python3.10/dist-packages (from pydantic<3,>=1->langchain) (0.7.0)\n",
            "Requirement already satisfied: pydantic-core==2.18.2 in /usr/local/lib/python3.10/dist-packages (from pydantic<3,>=1->langchain) (2.18.2)\n",
            "Requirement already satisfied: typing-extensions>=4.6.1 in /usr/local/lib/python3.10/dist-packages (from pydantic<3,>=1->langchain) (4.11.0)\n",
            "Requirement already satisfied: charset-normalizer<4,>=2 in /usr/local/lib/python3.10/dist-packages (from requests<3,>=2->langchain) (3.3.2)\n",
            "Requirement already satisfied: idna<4,>=2.5 in /usr/local/lib/python3.10/dist-packages (from requests<3,>=2->langchain) (3.7)\n",
            "Requirement already satisfied: urllib3<3,>=1.21.1 in /usr/local/lib/python3.10/dist-packages (from requests<3,>=2->langchain) (2.0.7)\n",
            "Requirement already satisfied: certifi>=2017.4.17 in /usr/local/lib/python3.10/dist-packages (from requests<3,>=2->langchain) (2024.2.2)\n",
            "Requirement already satisfied: greenlet!=0.4.17 in /usr/local/lib/python3.10/dist-packages (from SQLAlchemy<3,>=1.4->langchain) (3.0.3)\n",
            "Requirement already satisfied: jsonpointer>=1.9 in /usr/local/lib/python3.10/dist-packages (from jsonpatch<2.0,>=1.33->langchain-core<0.3.0,>=0.2.0->langchain) (2.4)\n"
          ]
        }
      ],
      "source": [
        "!pip install langchain"
      ]
    },
    {
      "cell_type": "code",
      "execution_count": 3,
      "metadata": {
        "colab": {
          "base_uri": "https://localhost:8080/"
        },
        "id": "RhY2OUcCa6pT",
        "outputId": "c74f6aec-de44-4e81-f97f-106aad32df72",
        "collapsed": true
      },
      "outputs": [
        {
          "output_type": "stream",
          "name": "stdout",
          "text": [
            "Requirement already satisfied: langchain_community in /usr/local/lib/python3.10/dist-packages (0.2.1)\n",
            "Requirement already satisfied: PyYAML>=5.3 in /usr/local/lib/python3.10/dist-packages (from langchain_community) (6.0.1)\n",
            "Requirement already satisfied: SQLAlchemy<3,>=1.4 in /usr/local/lib/python3.10/dist-packages (from langchain_community) (2.0.30)\n",
            "Requirement already satisfied: aiohttp<4.0.0,>=3.8.3 in /usr/local/lib/python3.10/dist-packages (from langchain_community) (3.9.5)\n",
            "Requirement already satisfied: dataclasses-json<0.7,>=0.5.7 in /usr/local/lib/python3.10/dist-packages (from langchain_community) (0.6.6)\n",
            "Requirement already satisfied: langchain<0.3.0,>=0.2.0 in /usr/local/lib/python3.10/dist-packages (from langchain_community) (0.2.1)\n",
            "Requirement already satisfied: langchain-core<0.3.0,>=0.2.0 in /usr/local/lib/python3.10/dist-packages (from langchain_community) (0.2.3)\n",
            "Requirement already satisfied: langsmith<0.2.0,>=0.1.0 in /usr/local/lib/python3.10/dist-packages (from langchain_community) (0.1.67)\n",
            "Requirement already satisfied: numpy<2,>=1 in /usr/local/lib/python3.10/dist-packages (from langchain_community) (1.25.2)\n",
            "Requirement already satisfied: requests<3,>=2 in /usr/local/lib/python3.10/dist-packages (from langchain_community) (2.31.0)\n",
            "Requirement already satisfied: tenacity<9.0.0,>=8.1.0 in /usr/local/lib/python3.10/dist-packages (from langchain_community) (8.3.0)\n",
            "Requirement already satisfied: aiosignal>=1.1.2 in /usr/local/lib/python3.10/dist-packages (from aiohttp<4.0.0,>=3.8.3->langchain_community) (1.3.1)\n",
            "Requirement already satisfied: attrs>=17.3.0 in /usr/local/lib/python3.10/dist-packages (from aiohttp<4.0.0,>=3.8.3->langchain_community) (23.2.0)\n",
            "Requirement already satisfied: frozenlist>=1.1.1 in /usr/local/lib/python3.10/dist-packages (from aiohttp<4.0.0,>=3.8.3->langchain_community) (1.4.1)\n",
            "Requirement already satisfied: multidict<7.0,>=4.5 in /usr/local/lib/python3.10/dist-packages (from aiohttp<4.0.0,>=3.8.3->langchain_community) (6.0.5)\n",
            "Requirement already satisfied: yarl<2.0,>=1.0 in /usr/local/lib/python3.10/dist-packages (from aiohttp<4.0.0,>=3.8.3->langchain_community) (1.9.4)\n",
            "Requirement already satisfied: async-timeout<5.0,>=4.0 in /usr/local/lib/python3.10/dist-packages (from aiohttp<4.0.0,>=3.8.3->langchain_community) (4.0.3)\n",
            "Requirement already satisfied: marshmallow<4.0.0,>=3.18.0 in /usr/local/lib/python3.10/dist-packages (from dataclasses-json<0.7,>=0.5.7->langchain_community) (3.21.2)\n",
            "Requirement already satisfied: typing-inspect<1,>=0.4.0 in /usr/local/lib/python3.10/dist-packages (from dataclasses-json<0.7,>=0.5.7->langchain_community) (0.9.0)\n",
            "Requirement already satisfied: langchain-text-splitters<0.3.0,>=0.2.0 in /usr/local/lib/python3.10/dist-packages (from langchain<0.3.0,>=0.2.0->langchain_community) (0.2.0)\n",
            "Requirement already satisfied: pydantic<3,>=1 in /usr/local/lib/python3.10/dist-packages (from langchain<0.3.0,>=0.2.0->langchain_community) (2.7.1)\n",
            "Requirement already satisfied: jsonpatch<2.0,>=1.33 in /usr/local/lib/python3.10/dist-packages (from langchain-core<0.3.0,>=0.2.0->langchain_community) (1.33)\n",
            "Requirement already satisfied: packaging<24.0,>=23.2 in /usr/local/lib/python3.10/dist-packages (from langchain-core<0.3.0,>=0.2.0->langchain_community) (23.2)\n",
            "Requirement already satisfied: orjson<4.0.0,>=3.9.14 in /usr/local/lib/python3.10/dist-packages (from langsmith<0.2.0,>=0.1.0->langchain_community) (3.10.3)\n",
            "Requirement already satisfied: charset-normalizer<4,>=2 in /usr/local/lib/python3.10/dist-packages (from requests<3,>=2->langchain_community) (3.3.2)\n",
            "Requirement already satisfied: idna<4,>=2.5 in /usr/local/lib/python3.10/dist-packages (from requests<3,>=2->langchain_community) (3.7)\n",
            "Requirement already satisfied: urllib3<3,>=1.21.1 in /usr/local/lib/python3.10/dist-packages (from requests<3,>=2->langchain_community) (2.0.7)\n",
            "Requirement already satisfied: certifi>=2017.4.17 in /usr/local/lib/python3.10/dist-packages (from requests<3,>=2->langchain_community) (2024.2.2)\n",
            "Requirement already satisfied: typing-extensions>=4.6.0 in /usr/local/lib/python3.10/dist-packages (from SQLAlchemy<3,>=1.4->langchain_community) (4.11.0)\n",
            "Requirement already satisfied: greenlet!=0.4.17 in /usr/local/lib/python3.10/dist-packages (from SQLAlchemy<3,>=1.4->langchain_community) (3.0.3)\n",
            "Requirement already satisfied: jsonpointer>=1.9 in /usr/local/lib/python3.10/dist-packages (from jsonpatch<2.0,>=1.33->langchain-core<0.3.0,>=0.2.0->langchain_community) (2.4)\n",
            "Requirement already satisfied: annotated-types>=0.4.0 in /usr/local/lib/python3.10/dist-packages (from pydantic<3,>=1->langchain<0.3.0,>=0.2.0->langchain_community) (0.7.0)\n",
            "Requirement already satisfied: pydantic-core==2.18.2 in /usr/local/lib/python3.10/dist-packages (from pydantic<3,>=1->langchain<0.3.0,>=0.2.0->langchain_community) (2.18.2)\n",
            "Requirement already satisfied: mypy-extensions>=0.3.0 in /usr/local/lib/python3.10/dist-packages (from typing-inspect<1,>=0.4.0->dataclasses-json<0.7,>=0.5.7->langchain_community) (1.0.0)\n"
          ]
        }
      ],
      "source": [
        "!pip install langchain_community"
      ]
    },
    {
      "cell_type": "code",
      "execution_count": 4,
      "metadata": {
        "id": "8ZcqyjJtbBhY"
      },
      "outputs": [],
      "source": [
        "from langchain_community.document_loaders.csv_loader import CSVLoader"
      ]
    },
    {
      "cell_type": "code",
      "execution_count": 5,
      "metadata": {
        "colab": {
          "base_uri": "https://localhost:8080/"
        },
        "id": "jmwMfWZPbQ_5",
        "outputId": "c0c87fa5-ffa4-42c0-9ede-6391431cbcec"
      },
      "outputs": [
        {
          "output_type": "execute_result",
          "data": {
            "text/plain": [
              "[Document(page_content='YearsExperience: 1.1\\nSalary: 39343', metadata={'source': '/content/Salary_Data.csv', 'row': 0}),\n",
              " Document(page_content='YearsExperience: 1.3\\nSalary: 46205', metadata={'source': '/content/Salary_Data.csv', 'row': 1}),\n",
              " Document(page_content='YearsExperience: 1.5\\nSalary: 37731', metadata={'source': '/content/Salary_Data.csv', 'row': 2}),\n",
              " Document(page_content='YearsExperience: 2\\nSalary: 43525', metadata={'source': '/content/Salary_Data.csv', 'row': 3}),\n",
              " Document(page_content='YearsExperience: 2.2\\nSalary: 39891', metadata={'source': '/content/Salary_Data.csv', 'row': 4}),\n",
              " Document(page_content='YearsExperience: 2.9\\nSalary: 56642', metadata={'source': '/content/Salary_Data.csv', 'row': 5}),\n",
              " Document(page_content='YearsExperience: 3\\nSalary: 60150', metadata={'source': '/content/Salary_Data.csv', 'row': 6}),\n",
              " Document(page_content='YearsExperience: 3.2\\nSalary: 54445', metadata={'source': '/content/Salary_Data.csv', 'row': 7}),\n",
              " Document(page_content='YearsExperience: 3.2\\nSalary: 64445', metadata={'source': '/content/Salary_Data.csv', 'row': 8}),\n",
              " Document(page_content='YearsExperience: 3.7\\nSalary: 57189', metadata={'source': '/content/Salary_Data.csv', 'row': 9}),\n",
              " Document(page_content='YearsExperience: 3.9\\nSalary: 63218', metadata={'source': '/content/Salary_Data.csv', 'row': 10}),\n",
              " Document(page_content='YearsExperience: 4\\nSalary: 55794', metadata={'source': '/content/Salary_Data.csv', 'row': 11}),\n",
              " Document(page_content='YearsExperience: 4\\nSalary: 56957', metadata={'source': '/content/Salary_Data.csv', 'row': 12}),\n",
              " Document(page_content='YearsExperience: 4.1\\nSalary: 57081', metadata={'source': '/content/Salary_Data.csv', 'row': 13}),\n",
              " Document(page_content='YearsExperience: 4.5\\nSalary: 61111', metadata={'source': '/content/Salary_Data.csv', 'row': 14}),\n",
              " Document(page_content='YearsExperience: 4.9\\nSalary: 67938', metadata={'source': '/content/Salary_Data.csv', 'row': 15}),\n",
              " Document(page_content='YearsExperience: 5.1\\nSalary: 66029', metadata={'source': '/content/Salary_Data.csv', 'row': 16}),\n",
              " Document(page_content='YearsExperience: 5.3\\nSalary: 83088', metadata={'source': '/content/Salary_Data.csv', 'row': 17}),\n",
              " Document(page_content='YearsExperience: 5.9\\nSalary: 81363', metadata={'source': '/content/Salary_Data.csv', 'row': 18}),\n",
              " Document(page_content='YearsExperience: 6\\nSalary: 93940', metadata={'source': '/content/Salary_Data.csv', 'row': 19}),\n",
              " Document(page_content='YearsExperience: 6.8\\nSalary: 91738', metadata={'source': '/content/Salary_Data.csv', 'row': 20}),\n",
              " Document(page_content='YearsExperience: 7.1\\nSalary: 98273', metadata={'source': '/content/Salary_Data.csv', 'row': 21}),\n",
              " Document(page_content='YearsExperience: 7.9\\nSalary: 101302', metadata={'source': '/content/Salary_Data.csv', 'row': 22}),\n",
              " Document(page_content='YearsExperience: 8.2\\nSalary: 113812', metadata={'source': '/content/Salary_Data.csv', 'row': 23}),\n",
              " Document(page_content='YearsExperience: 8.7\\nSalary: 109431', metadata={'source': '/content/Salary_Data.csv', 'row': 24}),\n",
              " Document(page_content='YearsExperience: 9\\nSalary: 105582', metadata={'source': '/content/Salary_Data.csv', 'row': 25}),\n",
              " Document(page_content='YearsExperience: 9.5\\nSalary: 116969', metadata={'source': '/content/Salary_Data.csv', 'row': 26}),\n",
              " Document(page_content='YearsExperience: 9.6\\nSalary: 112635', metadata={'source': '/content/Salary_Data.csv', 'row': 27}),\n",
              " Document(page_content='YearsExperience: 10.3\\nSalary: 122391', metadata={'source': '/content/Salary_Data.csv', 'row': 28}),\n",
              " Document(page_content='YearsExperience: 10.5\\nSalary: 121872', metadata={'source': '/content/Salary_Data.csv', 'row': 29})]"
            ]
          },
          "metadata": {},
          "execution_count": 5
        }
      ],
      "source": [
        "loader = CSVLoader(file_path = '/content/Salary_Data.csv')\n",
        "data = loader.load()\n",
        "data"
      ]
    },
    {
      "cell_type": "code",
      "execution_count": 6,
      "metadata": {
        "id": "iPr_Tgm8bfq6",
        "colab": {
          "base_uri": "https://localhost:8080/"
        },
        "outputId": "fc6bf827-d84e-4144-b2ad-11fa3a178db9"
      },
      "outputs": [
        {
          "output_type": "execute_result",
          "data": {
            "text/plain": [
              "list"
            ]
          },
          "metadata": {},
          "execution_count": 6
        }
      ],
      "source": [
        "type(data) # list"
      ]
    },
    {
      "cell_type": "code",
      "execution_count": 7,
      "metadata": {
        "colab": {
          "base_uri": "https://localhost:8080/"
        },
        "id": "gIqOdXULdTcc",
        "outputId": "19c23633-e048-4cc5-ce4b-a4a5b3cdb7e6"
      },
      "outputs": [
        {
          "output_type": "execute_result",
          "data": {
            "text/plain": [
              "Document(page_content='YearsExperience: 1.1\\nSalary: 39343', metadata={'source': '/content/Salary_Data.csv', 'row': 0})"
            ]
          },
          "metadata": {},
          "execution_count": 7
        }
      ],
      "source": [
        "data[0]    # page meta  row"
      ]
    },
    {
      "cell_type": "code",
      "execution_count": 8,
      "metadata": {
        "colab": {
          "base_uri": "https://localhost:8080/",
          "height": 36
        },
        "id": "K594ZPb5dTcd",
        "outputId": "9d6c4ca1-a676-436b-a7ed-e7c6d692a94d"
      },
      "outputs": [
        {
          "output_type": "execute_result",
          "data": {
            "text/plain": [
              "'YearsExperience: 1.1\\nSalary: 39343'"
            ],
            "application/vnd.google.colaboratory.intrinsic+json": {
              "type": "string"
            }
          },
          "metadata": {},
          "execution_count": 8
        }
      ],
      "source": [
        "data[0].page_content"
      ]
    },
    {
      "cell_type": "code",
      "execution_count": 9,
      "metadata": {
        "colab": {
          "base_uri": "https://localhost:8080/"
        },
        "id": "WnZ32-sRdTcd",
        "outputId": "24a6b21b-a106-4dc0-cfd3-a922592a53c6"
      },
      "outputs": [
        {
          "output_type": "execute_result",
          "data": {
            "text/plain": [
              "{'source': '/content/Salary_Data.csv', 'row': 0}"
            ]
          },
          "metadata": {},
          "execution_count": 9
        }
      ],
      "source": [
        "data[0].metadata"
      ]
    },
    {
      "cell_type": "code",
      "execution_count": 10,
      "metadata": {
        "colab": {
          "base_uri": "https://localhost:8080/"
        },
        "id": "n-2Sz6tNdTcd",
        "outputId": "3c425bbd-b232-4f1a-aa62-74cfe4dd3d49"
      },
      "outputs": [
        {
          "output_type": "execute_result",
          "data": {
            "text/plain": [
              "30"
            ]
          },
          "metadata": {},
          "execution_count": 10
        }
      ],
      "source": [
        "len(data)"
      ]
    },
    {
      "cell_type": "code",
      "execution_count": 11,
      "metadata": {
        "colab": {
          "base_uri": "https://localhost:8080/"
        },
        "id": "SodlXpeFdTcd",
        "outputId": "4bc436a3-f005-4877-c104-7c621d0f3395"
      },
      "outputs": [
        {
          "output_type": "stream",
          "name": "stdout",
          "text": [
            "page_content='YearsExperience: 3.7\\nSalary: 57189' metadata={'source': '/content/Salary_Data.csv', 'row': 9}\n"
          ]
        }
      ],
      "source": [
        "print(data[9])"
      ]
    },
    {
      "cell_type": "code",
      "execution_count": 11,
      "metadata": {
        "id": "DedwT-g3dTcd"
      },
      "outputs": [],
      "source": []
    },
    {
      "cell_type": "code",
      "execution_count": 11,
      "metadata": {
        "id": "clxRt1uedTcd"
      },
      "outputs": [],
      "source": []
    },
    {
      "cell_type": "code",
      "execution_count": 12,
      "metadata": {
        "id": "sQxssGGudTcd"
      },
      "outputs": [],
      "source": [
        "# SPLITTER\n",
        "\n",
        "!pip install -qU langchain-text-splitters"
      ]
    },
    {
      "cell_type": "code",
      "execution_count": 13,
      "metadata": {
        "id": "fD2QXaZvdTcd"
      },
      "outputs": [],
      "source": [
        "from langchain_text_splitters import CharacterTextSplitter"
      ]
    },
    {
      "cell_type": "code",
      "execution_count": 14,
      "metadata": {
        "id": "9bXZ2JdJdTcd"
      },
      "outputs": [],
      "source": [
        "# Split the text into documents using the CharacterTextSplitter\n",
        "text_splitter = CharacterTextSplitter(\n",
        "    separator=\"\\n\\n\",\n",
        "    chunk_size=1500,\n",
        "    chunk_overlap=1\n",
        ")"
      ]
    },
    {
      "cell_type": "code",
      "execution_count": 15,
      "metadata": {
        "colab": {
          "base_uri": "https://localhost:8080/"
        },
        "id": "l2S8EOUtdTcd",
        "outputId": "12210e35-73fc-4920-c057-9a93e3e9ff70"
      },
      "outputs": [
        {
          "output_type": "execute_result",
          "data": {
            "text/plain": [
              "<langchain_text_splitters.character.CharacterTextSplitter at 0x7a6ef46764a0>"
            ]
          },
          "metadata": {},
          "execution_count": 15
        }
      ],
      "source": [
        "text_splitter"
      ]
    },
    {
      "cell_type": "code",
      "execution_count": 16,
      "metadata": {
        "colab": {
          "base_uri": "https://localhost:8080/"
        },
        "id": "MVu4sc_xdTce",
        "outputId": "97679f52-2568-4140-8bf5-791c685c6d51"
      },
      "outputs": [
        {
          "output_type": "execute_result",
          "data": {
            "text/plain": [
              "[Document(page_content='YearsExperience: 1.1\\nSalary: 39343', metadata={'source': '/content/Salary_Data.csv', 'row': 0}),\n",
              " Document(page_content='YearsExperience: 1.3\\nSalary: 46205', metadata={'source': '/content/Salary_Data.csv', 'row': 1}),\n",
              " Document(page_content='YearsExperience: 1.5\\nSalary: 37731', metadata={'source': '/content/Salary_Data.csv', 'row': 2}),\n",
              " Document(page_content='YearsExperience: 2\\nSalary: 43525', metadata={'source': '/content/Salary_Data.csv', 'row': 3}),\n",
              " Document(page_content='YearsExperience: 2.2\\nSalary: 39891', metadata={'source': '/content/Salary_Data.csv', 'row': 4}),\n",
              " Document(page_content='YearsExperience: 2.9\\nSalary: 56642', metadata={'source': '/content/Salary_Data.csv', 'row': 5}),\n",
              " Document(page_content='YearsExperience: 3\\nSalary: 60150', metadata={'source': '/content/Salary_Data.csv', 'row': 6}),\n",
              " Document(page_content='YearsExperience: 3.2\\nSalary: 54445', metadata={'source': '/content/Salary_Data.csv', 'row': 7}),\n",
              " Document(page_content='YearsExperience: 3.2\\nSalary: 64445', metadata={'source': '/content/Salary_Data.csv', 'row': 8}),\n",
              " Document(page_content='YearsExperience: 3.7\\nSalary: 57189', metadata={'source': '/content/Salary_Data.csv', 'row': 9}),\n",
              " Document(page_content='YearsExperience: 3.9\\nSalary: 63218', metadata={'source': '/content/Salary_Data.csv', 'row': 10}),\n",
              " Document(page_content='YearsExperience: 4\\nSalary: 55794', metadata={'source': '/content/Salary_Data.csv', 'row': 11}),\n",
              " Document(page_content='YearsExperience: 4\\nSalary: 56957', metadata={'source': '/content/Salary_Data.csv', 'row': 12}),\n",
              " Document(page_content='YearsExperience: 4.1\\nSalary: 57081', metadata={'source': '/content/Salary_Data.csv', 'row': 13}),\n",
              " Document(page_content='YearsExperience: 4.5\\nSalary: 61111', metadata={'source': '/content/Salary_Data.csv', 'row': 14}),\n",
              " Document(page_content='YearsExperience: 4.9\\nSalary: 67938', metadata={'source': '/content/Salary_Data.csv', 'row': 15}),\n",
              " Document(page_content='YearsExperience: 5.1\\nSalary: 66029', metadata={'source': '/content/Salary_Data.csv', 'row': 16}),\n",
              " Document(page_content='YearsExperience: 5.3\\nSalary: 83088', metadata={'source': '/content/Salary_Data.csv', 'row': 17}),\n",
              " Document(page_content='YearsExperience: 5.9\\nSalary: 81363', metadata={'source': '/content/Salary_Data.csv', 'row': 18}),\n",
              " Document(page_content='YearsExperience: 6\\nSalary: 93940', metadata={'source': '/content/Salary_Data.csv', 'row': 19}),\n",
              " Document(page_content='YearsExperience: 6.8\\nSalary: 91738', metadata={'source': '/content/Salary_Data.csv', 'row': 20}),\n",
              " Document(page_content='YearsExperience: 7.1\\nSalary: 98273', metadata={'source': '/content/Salary_Data.csv', 'row': 21}),\n",
              " Document(page_content='YearsExperience: 7.9\\nSalary: 101302', metadata={'source': '/content/Salary_Data.csv', 'row': 22}),\n",
              " Document(page_content='YearsExperience: 8.2\\nSalary: 113812', metadata={'source': '/content/Salary_Data.csv', 'row': 23}),\n",
              " Document(page_content='YearsExperience: 8.7\\nSalary: 109431', metadata={'source': '/content/Salary_Data.csv', 'row': 24}),\n",
              " Document(page_content='YearsExperience: 9\\nSalary: 105582', metadata={'source': '/content/Salary_Data.csv', 'row': 25}),\n",
              " Document(page_content='YearsExperience: 9.5\\nSalary: 116969', metadata={'source': '/content/Salary_Data.csv', 'row': 26}),\n",
              " Document(page_content='YearsExperience: 9.6\\nSalary: 112635', metadata={'source': '/content/Salary_Data.csv', 'row': 27}),\n",
              " Document(page_content='YearsExperience: 10.3\\nSalary: 122391', metadata={'source': '/content/Salary_Data.csv', 'row': 28}),\n",
              " Document(page_content='YearsExperience: 10.5\\nSalary: 121872', metadata={'source': '/content/Salary_Data.csv', 'row': 29})]"
            ]
          },
          "metadata": {},
          "execution_count": 16
        }
      ],
      "source": [
        "docs_salary = text_splitter.split_documents(data)\n",
        "docs_salary"
      ]
    },
    {
      "cell_type": "code",
      "execution_count": 17,
      "metadata": {
        "colab": {
          "base_uri": "https://localhost:8080/"
        },
        "id": "k2jk_xjtdTce",
        "outputId": "147ef92f-89e8-43e3-9b4e-e6e98db6ecc2"
      },
      "outputs": [
        {
          "output_type": "execute_result",
          "data": {
            "text/plain": [
              "30"
            ]
          },
          "metadata": {},
          "execution_count": 17
        }
      ],
      "source": [
        "# Print the number of documents\n",
        "len(docs_salary)"
      ]
    },
    {
      "cell_type": "code",
      "execution_count": 17,
      "metadata": {
        "id": "jLB3G3PjdTce"
      },
      "outputs": [],
      "source": []
    },
    {
      "cell_type": "code",
      "execution_count": 17,
      "metadata": {
        "id": "N6ZX85eMdTce"
      },
      "outputs": [],
      "source": []
    },
    {
      "cell_type": "code",
      "execution_count": 17,
      "metadata": {
        "id": "e3ylZPw7dTce"
      },
      "outputs": [],
      "source": []
    }
  ],
  "metadata": {
    "colab": {
      "provenance": []
    },
    "kernelspec": {
      "display_name": "Python 3 (ipykernel)",
      "language": "python",
      "name": "python3"
    },
    "language_info": {
      "codemirror_mode": {
        "name": "ipython",
        "version": 3
      },
      "file_extension": ".py",
      "mimetype": "text/x-python",
      "name": "python",
      "nbconvert_exporter": "python",
      "pygments_lexer": "ipython3",
      "version": "3.11.7"
    }
  },
  "nbformat": 4,
  "nbformat_minor": 0
}