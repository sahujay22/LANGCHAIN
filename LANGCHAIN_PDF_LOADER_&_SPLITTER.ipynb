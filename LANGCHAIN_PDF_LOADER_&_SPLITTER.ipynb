{
  "cells": [
    {
      "cell_type": "code",
      "execution_count": 1,
      "id": "c6fc75d4",
      "metadata": {
        "id": "c6fc75d4"
      },
      "outputs": [],
      "source": [
        "# PDF LOADER"
      ]
    },
    {
      "cell_type": "code",
      "execution_count": 2,
      "id": "0e6a979d",
      "metadata": {
        "colab": {
          "base_uri": "https://localhost:8080/"
        },
        "collapsed": true,
        "id": "0e6a979d",
        "outputId": "187ef11a-05c4-4179-95b0-56b021cf7f20"
      },
      "outputs": [
        {
          "output_type": "stream",
          "name": "stdout",
          "text": [
            "Requirement already satisfied: langchain in /usr/local/lib/python3.10/dist-packages (0.2.1)\n",
            "Requirement already satisfied: PyYAML>=5.3 in /usr/local/lib/python3.10/dist-packages (from langchain) (6.0.1)\n",
            "Requirement already satisfied: SQLAlchemy<3,>=1.4 in /usr/local/lib/python3.10/dist-packages (from langchain) (2.0.30)\n",
            "Requirement already satisfied: aiohttp<4.0.0,>=3.8.3 in /usr/local/lib/python3.10/dist-packages (from langchain) (3.9.5)\n",
            "Requirement already satisfied: async-timeout<5.0.0,>=4.0.0 in /usr/local/lib/python3.10/dist-packages (from langchain) (4.0.3)\n",
            "Requirement already satisfied: langchain-core<0.3.0,>=0.2.0 in /usr/local/lib/python3.10/dist-packages (from langchain) (0.2.3)\n",
            "Requirement already satisfied: langchain-text-splitters<0.3.0,>=0.2.0 in /usr/local/lib/python3.10/dist-packages (from langchain) (0.2.0)\n",
            "Requirement already satisfied: langsmith<0.2.0,>=0.1.17 in /usr/local/lib/python3.10/dist-packages (from langchain) (0.1.67)\n",
            "Requirement already satisfied: numpy<2,>=1 in /usr/local/lib/python3.10/dist-packages (from langchain) (1.25.2)\n",
            "Requirement already satisfied: pydantic<3,>=1 in /usr/local/lib/python3.10/dist-packages (from langchain) (2.7.1)\n",
            "Requirement already satisfied: requests<3,>=2 in /usr/local/lib/python3.10/dist-packages (from langchain) (2.31.0)\n",
            "Requirement already satisfied: tenacity<9.0.0,>=8.1.0 in /usr/local/lib/python3.10/dist-packages (from langchain) (8.3.0)\n",
            "Requirement already satisfied: aiosignal>=1.1.2 in /usr/local/lib/python3.10/dist-packages (from aiohttp<4.0.0,>=3.8.3->langchain) (1.3.1)\n",
            "Requirement already satisfied: attrs>=17.3.0 in /usr/local/lib/python3.10/dist-packages (from aiohttp<4.0.0,>=3.8.3->langchain) (23.2.0)\n",
            "Requirement already satisfied: frozenlist>=1.1.1 in /usr/local/lib/python3.10/dist-packages (from aiohttp<4.0.0,>=3.8.3->langchain) (1.4.1)\n",
            "Requirement already satisfied: multidict<7.0,>=4.5 in /usr/local/lib/python3.10/dist-packages (from aiohttp<4.0.0,>=3.8.3->langchain) (6.0.5)\n",
            "Requirement already satisfied: yarl<2.0,>=1.0 in /usr/local/lib/python3.10/dist-packages (from aiohttp<4.0.0,>=3.8.3->langchain) (1.9.4)\n",
            "Requirement already satisfied: jsonpatch<2.0,>=1.33 in /usr/local/lib/python3.10/dist-packages (from langchain-core<0.3.0,>=0.2.0->langchain) (1.33)\n",
            "Requirement already satisfied: packaging<24.0,>=23.2 in /usr/local/lib/python3.10/dist-packages (from langchain-core<0.3.0,>=0.2.0->langchain) (23.2)\n",
            "Requirement already satisfied: orjson<4.0.0,>=3.9.14 in /usr/local/lib/python3.10/dist-packages (from langsmith<0.2.0,>=0.1.17->langchain) (3.10.3)\n",
            "Requirement already satisfied: annotated-types>=0.4.0 in /usr/local/lib/python3.10/dist-packages (from pydantic<3,>=1->langchain) (0.7.0)\n",
            "Requirement already satisfied: pydantic-core==2.18.2 in /usr/local/lib/python3.10/dist-packages (from pydantic<3,>=1->langchain) (2.18.2)\n",
            "Requirement already satisfied: typing-extensions>=4.6.1 in /usr/local/lib/python3.10/dist-packages (from pydantic<3,>=1->langchain) (4.11.0)\n",
            "Requirement already satisfied: charset-normalizer<4,>=2 in /usr/local/lib/python3.10/dist-packages (from requests<3,>=2->langchain) (3.3.2)\n",
            "Requirement already satisfied: idna<4,>=2.5 in /usr/local/lib/python3.10/dist-packages (from requests<3,>=2->langchain) (3.7)\n",
            "Requirement already satisfied: urllib3<3,>=1.21.1 in /usr/local/lib/python3.10/dist-packages (from requests<3,>=2->langchain) (2.0.7)\n",
            "Requirement already satisfied: certifi>=2017.4.17 in /usr/local/lib/python3.10/dist-packages (from requests<3,>=2->langchain) (2024.2.2)\n",
            "Requirement already satisfied: greenlet!=0.4.17 in /usr/local/lib/python3.10/dist-packages (from SQLAlchemy<3,>=1.4->langchain) (3.0.3)\n",
            "Requirement already satisfied: jsonpointer>=1.9 in /usr/local/lib/python3.10/dist-packages (from jsonpatch<2.0,>=1.33->langchain-core<0.3.0,>=0.2.0->langchain) (2.4)\n",
            "Requirement already satisfied: langchain_community in /usr/local/lib/python3.10/dist-packages (0.2.1)\n",
            "Requirement already satisfied: PyYAML>=5.3 in /usr/local/lib/python3.10/dist-packages (from langchain_community) (6.0.1)\n",
            "Requirement already satisfied: SQLAlchemy<3,>=1.4 in /usr/local/lib/python3.10/dist-packages (from langchain_community) (2.0.30)\n",
            "Requirement already satisfied: aiohttp<4.0.0,>=3.8.3 in /usr/local/lib/python3.10/dist-packages (from langchain_community) (3.9.5)\n",
            "Requirement already satisfied: dataclasses-json<0.7,>=0.5.7 in /usr/local/lib/python3.10/dist-packages (from langchain_community) (0.6.6)\n",
            "Requirement already satisfied: langchain<0.3.0,>=0.2.0 in /usr/local/lib/python3.10/dist-packages (from langchain_community) (0.2.1)\n",
            "Requirement already satisfied: langchain-core<0.3.0,>=0.2.0 in /usr/local/lib/python3.10/dist-packages (from langchain_community) (0.2.3)\n",
            "Requirement already satisfied: langsmith<0.2.0,>=0.1.0 in /usr/local/lib/python3.10/dist-packages (from langchain_community) (0.1.67)\n",
            "Requirement already satisfied: numpy<2,>=1 in /usr/local/lib/python3.10/dist-packages (from langchain_community) (1.25.2)\n",
            "Requirement already satisfied: requests<3,>=2 in /usr/local/lib/python3.10/dist-packages (from langchain_community) (2.31.0)\n",
            "Requirement already satisfied: tenacity<9.0.0,>=8.1.0 in /usr/local/lib/python3.10/dist-packages (from langchain_community) (8.3.0)\n",
            "Requirement already satisfied: aiosignal>=1.1.2 in /usr/local/lib/python3.10/dist-packages (from aiohttp<4.0.0,>=3.8.3->langchain_community) (1.3.1)\n",
            "Requirement already satisfied: attrs>=17.3.0 in /usr/local/lib/python3.10/dist-packages (from aiohttp<4.0.0,>=3.8.3->langchain_community) (23.2.0)\n",
            "Requirement already satisfied: frozenlist>=1.1.1 in /usr/local/lib/python3.10/dist-packages (from aiohttp<4.0.0,>=3.8.3->langchain_community) (1.4.1)\n",
            "Requirement already satisfied: multidict<7.0,>=4.5 in /usr/local/lib/python3.10/dist-packages (from aiohttp<4.0.0,>=3.8.3->langchain_community) (6.0.5)\n",
            "Requirement already satisfied: yarl<2.0,>=1.0 in /usr/local/lib/python3.10/dist-packages (from aiohttp<4.0.0,>=3.8.3->langchain_community) (1.9.4)\n",
            "Requirement already satisfied: async-timeout<5.0,>=4.0 in /usr/local/lib/python3.10/dist-packages (from aiohttp<4.0.0,>=3.8.3->langchain_community) (4.0.3)\n",
            "Requirement already satisfied: marshmallow<4.0.0,>=3.18.0 in /usr/local/lib/python3.10/dist-packages (from dataclasses-json<0.7,>=0.5.7->langchain_community) (3.21.2)\n",
            "Requirement already satisfied: typing-inspect<1,>=0.4.0 in /usr/local/lib/python3.10/dist-packages (from dataclasses-json<0.7,>=0.5.7->langchain_community) (0.9.0)\n",
            "Requirement already satisfied: langchain-text-splitters<0.3.0,>=0.2.0 in /usr/local/lib/python3.10/dist-packages (from langchain<0.3.0,>=0.2.0->langchain_community) (0.2.0)\n",
            "Requirement already satisfied: pydantic<3,>=1 in /usr/local/lib/python3.10/dist-packages (from langchain<0.3.0,>=0.2.0->langchain_community) (2.7.1)\n",
            "Requirement already satisfied: jsonpatch<2.0,>=1.33 in /usr/local/lib/python3.10/dist-packages (from langchain-core<0.3.0,>=0.2.0->langchain_community) (1.33)\n",
            "Requirement already satisfied: packaging<24.0,>=23.2 in /usr/local/lib/python3.10/dist-packages (from langchain-core<0.3.0,>=0.2.0->langchain_community) (23.2)\n",
            "Requirement already satisfied: orjson<4.0.0,>=3.9.14 in /usr/local/lib/python3.10/dist-packages (from langsmith<0.2.0,>=0.1.0->langchain_community) (3.10.3)\n",
            "Requirement already satisfied: charset-normalizer<4,>=2 in /usr/local/lib/python3.10/dist-packages (from requests<3,>=2->langchain_community) (3.3.2)\n",
            "Requirement already satisfied: idna<4,>=2.5 in /usr/local/lib/python3.10/dist-packages (from requests<3,>=2->langchain_community) (3.7)\n",
            "Requirement already satisfied: urllib3<3,>=1.21.1 in /usr/local/lib/python3.10/dist-packages (from requests<3,>=2->langchain_community) (2.0.7)\n",
            "Requirement already satisfied: certifi>=2017.4.17 in /usr/local/lib/python3.10/dist-packages (from requests<3,>=2->langchain_community) (2024.2.2)\n",
            "Requirement already satisfied: typing-extensions>=4.6.0 in /usr/local/lib/python3.10/dist-packages (from SQLAlchemy<3,>=1.4->langchain_community) (4.11.0)\n",
            "Requirement already satisfied: greenlet!=0.4.17 in /usr/local/lib/python3.10/dist-packages (from SQLAlchemy<3,>=1.4->langchain_community) (3.0.3)\n",
            "Requirement already satisfied: jsonpointer>=1.9 in /usr/local/lib/python3.10/dist-packages (from jsonpatch<2.0,>=1.33->langchain-core<0.3.0,>=0.2.0->langchain_community) (2.4)\n",
            "Requirement already satisfied: annotated-types>=0.4.0 in /usr/local/lib/python3.10/dist-packages (from pydantic<3,>=1->langchain<0.3.0,>=0.2.0->langchain_community) (0.7.0)\n",
            "Requirement already satisfied: pydantic-core==2.18.2 in /usr/local/lib/python3.10/dist-packages (from pydantic<3,>=1->langchain<0.3.0,>=0.2.0->langchain_community) (2.18.2)\n",
            "Requirement already satisfied: mypy-extensions>=0.3.0 in /usr/local/lib/python3.10/dist-packages (from typing-inspect<1,>=0.4.0->dataclasses-json<0.7,>=0.5.7->langchain_community) (1.0.0)\n",
            "Requirement already satisfied: pypdf in /usr/local/lib/python3.10/dist-packages (4.2.0)\n",
            "Requirement already satisfied: typing_extensions>=4.0 in /usr/local/lib/python3.10/dist-packages (from pypdf) (4.11.0)\n"
          ]
        }
      ],
      "source": [
        "!pip install langchain\n",
        "!pip install langchain_community\n",
        "!pip install pypdf"
      ]
    },
    {
      "cell_type": "code",
      "execution_count": 3,
      "id": "fef3b778",
      "metadata": {
        "id": "fef3b778"
      },
      "outputs": [],
      "source": [
        "from langchain_community.document_loaders import PyPDFLoader"
      ]
    },
    {
      "cell_type": "code",
      "execution_count": 4,
      "id": "cb821b29",
      "metadata": {
        "id": "cb821b29"
      },
      "outputs": [],
      "source": [
        "# Load the PDF document\n",
        "\n",
        "pdf_loader = PyPDFLoader(\"/content/datasciencepdf.pdf\")\n",
        "data = pdf_loader.load()"
      ]
    },
    {
      "cell_type": "code",
      "execution_count": 5,
      "id": "a01b7435",
      "metadata": {
        "colab": {
          "base_uri": "https://localhost:8080/"
        },
        "id": "a01b7435",
        "outputId": "9e7a80e7-549c-4dd6-8b60-04d87eab7963"
      },
      "outputs": [
        {
          "output_type": "execute_result",
          "data": {
            "text/plain": [
              "list"
            ]
          },
          "metadata": {},
          "execution_count": 5
        }
      ],
      "source": [
        "type(data) # list"
      ]
    },
    {
      "cell_type": "code",
      "execution_count": 6,
      "id": "ef9d534e",
      "metadata": {
        "colab": {
          "base_uri": "https://localhost:8080/"
        },
        "id": "ef9d534e",
        "outputId": "7b42d455-0198-4275-ca3e-7830d9850426"
      },
      "outputs": [
        {
          "output_type": "execute_result",
          "data": {
            "text/plain": [
              "Document(page_content='Data science is an interdisciplinary academic ﬁeld[1] that uses sta ƟsƟcs, scienƟﬁc compu Ɵng, scienƟﬁc \\nmethods, processes, algorithms and systems to extract or extrapolate knowledge and insights from \\npotenƟally noisy, structured, or unstructured da ta.[2] \\n \\nData science also integrates domain knowledge from the underlying applica Ɵon domain (e.g., natural \\nsciences, informa Ɵon technology, and medicine).[3] Data science is mul Ɵfaceted and can be described as \\na science, a research paradigm, a research method, a discipline, a workﬂow, and a profession.[4] \\n \\nData science is \"a concept to unify sta ƟsƟcs, data analysis, informa Ɵcs, and their related methods\" to \\n\"understand and analyze actual phenomena\" with data.[5] It uses techniques and theories drawn from \\nmany ﬁelds within the context of mathema Ɵcs, staƟsƟcs, computer science, informa Ɵon science, and \\ndomain knowledge.[6] However, data science is diﬀerent from computer science and informa Ɵon \\nscience. Turing Award winner Jim Gray imagined data science as a \"fourth paradigm\" of science \\n(empirical, theor eƟcal, computa Ɵonal, and now data -driven) and asserted that \"everything about \\nscience is changing because of the impact of informa Ɵon technology\" and the data deluge.[7][8]  \\n \\nA data scien Ɵst is a professional who creates programming code and combines it with sta ƟsƟcal \\nknowledge to create insights from data.[9] \\n \\nFoundaƟons \\nData science is an interdisciplinary ﬁeld[10] focused on extrac Ɵng knowledge from typically large data \\nsets and applying the knowledge and insights from that data to solve problems in a wide range of \\napplicaƟon domains. The ﬁeld encompasses preparing data for analysis, formula Ɵng data science \\nproblems, analyzing data, developing data- driven solu Ɵons, and presen Ɵng ﬁndings to inform high -level \\ndecisions in a broad range of applica Ɵon domains. As such, it incorporates skills from computer science, \\nstaƟsƟcs, informa Ɵon science, mathema Ɵcs, data visualiza Ɵon, informa Ɵon visualiza Ɵon, data \\nsoniﬁcaƟon, data integra Ɵon, graphic design, complex systems, communica Ɵon and business.[11][12] \\nStaƟsƟcian Nathan Yau, drawing on Ben Fry, also links dat a science to human– computer interac Ɵon: \\nusers should be able to intui Ɵvely control and explore data.[13][14] In 2015, the American Sta ƟsƟcal \\nAssociaƟon idenƟﬁed database management, sta ƟsƟcs and machine learning, and distributed and \\nparallel syste ms as the three emerging founda Ɵonal professional communi Ɵes.[15] \\n \\nRelaƟonship to sta ƟsƟcs \\nMany staƟsƟcians, including Nate Silver, have argued that data science is not a new ﬁeld, but rather \\nanother name for sta ƟsƟcs.[16] Others argue that data science is dis Ɵnct from sta ƟsƟcs because it \\nfocuses on problems and techniques unique to digi tal data.[17] Vasant Dhar writes that sta ƟsƟcs \\nemphasizes quan ƟtaƟve data and descrip Ɵon. In contrast, data science deals with quan ƟtaƟve and \\nqualitaƟve data (e.g., from images, text, sensors, transac Ɵons, customer informa Ɵon, etc.) and \\nemphasize s predicƟon and ac Ɵon.[18] Andrew Gelman of Columbia University has described sta ƟsƟcs as \\na non-essenƟal part of data science.[19]  \\n ', metadata={'source': '/content/datasciencepdf.pdf', 'page': 0})"
            ]
          },
          "metadata": {},
          "execution_count": 6
        }
      ],
      "source": [
        "data[0]    # page meta  row"
      ]
    },
    {
      "cell_type": "code",
      "execution_count": 7,
      "id": "d181c90b",
      "metadata": {
        "colab": {
          "base_uri": "https://localhost:8080/",
          "height": 109
        },
        "id": "d181c90b",
        "outputId": "9f760bbc-4602-4450-a5fb-e1f71f3e96c3"
      },
      "outputs": [
        {
          "output_type": "execute_result",
          "data": {
            "text/plain": [
              "'Data science is an interdisciplinary academic ﬁeld[1] that uses sta ƟsƟcs, scienƟﬁc compu Ɵng, scienƟﬁc \\nmethods, processes, algorithms and systems to extract or extrapolate knowledge and insights from \\npotenƟally noisy, structured, or unstructured da ta.[2] \\n \\nData science also integrates domain knowledge from the underlying applica Ɵon domain (e.g., natural \\nsciences, informa Ɵon technology, and medicine).[3] Data science is mul Ɵfaceted and can be described as \\na science, a research paradigm, a research method, a discipline, a workﬂow, and a profession.[4] \\n \\nData science is \"a concept to unify sta ƟsƟcs, data analysis, informa Ɵcs, and their related methods\" to \\n\"understand and analyze actual phenomena\" with data.[5] It uses techniques and theories drawn from \\nmany ﬁelds within the context of mathema Ɵcs, staƟsƟcs, computer science, informa Ɵon science, and \\ndomain knowledge.[6] However, data science is diﬀerent from computer science and informa Ɵon \\nscience. Turing Award winner Jim Gray imagined data science as a \"fourth paradigm\" of science \\n(empirical, theor eƟcal, computa Ɵonal, and now data -driven) and asserted that \"everything about \\nscience is changing because of the impact of informa Ɵon technology\" and the data deluge.[7][8]  \\n \\nA data scien Ɵst is a professional who creates programming code and combines it with sta ƟsƟcal \\nknowledge to create insights from data.[9] \\n \\nFoundaƟons \\nData science is an interdisciplinary ﬁeld[10] focused on extrac Ɵng knowledge from typically large data \\nsets and applying the knowledge and insights from that data to solve problems in a wide range of \\napplicaƟon domains. The ﬁeld encompasses preparing data for analysis, formula Ɵng data science \\nproblems, analyzing data, developing data- driven solu Ɵons, and presen Ɵng ﬁndings to inform high -level \\ndecisions in a broad range of applica Ɵon domains. As such, it incorporates skills from computer science, \\nstaƟsƟcs, informa Ɵon science, mathema Ɵcs, data visualiza Ɵon, informa Ɵon visualiza Ɵon, data \\nsoniﬁcaƟon, data integra Ɵon, graphic design, complex systems, communica Ɵon and business.[11][12] \\nStaƟsƟcian Nathan Yau, drawing on Ben Fry, also links dat a science to human– computer interac Ɵon: \\nusers should be able to intui Ɵvely control and explore data.[13][14] In 2015, the American Sta ƟsƟcal \\nAssociaƟon idenƟﬁed database management, sta ƟsƟcs and machine learning, and distributed and \\nparallel syste ms as the three emerging founda Ɵonal professional communi Ɵes.[15] \\n \\nRelaƟonship to sta ƟsƟcs \\nMany staƟsƟcians, including Nate Silver, have argued that data science is not a new ﬁeld, but rather \\nanother name for sta ƟsƟcs.[16] Others argue that data science is dis Ɵnct from sta ƟsƟcs because it \\nfocuses on problems and techniques unique to digi tal data.[17] Vasant Dhar writes that sta ƟsƟcs \\nemphasizes quan ƟtaƟve data and descrip Ɵon. In contrast, data science deals with quan ƟtaƟve and \\nqualitaƟve data (e.g., from images, text, sensors, transac Ɵons, customer informa Ɵon, etc.) and \\nemphasize s predicƟon and ac Ɵon.[18] Andrew Gelman of Columbia University has described sta ƟsƟcs as \\na non-essenƟal part of data science.[19]  \\n '"
            ],
            "application/vnd.google.colaboratory.intrinsic+json": {
              "type": "string"
            }
          },
          "metadata": {},
          "execution_count": 7
        }
      ],
      "source": [
        "data[0].page_content"
      ]
    },
    {
      "cell_type": "code",
      "execution_count": 8,
      "id": "a0417afb",
      "metadata": {
        "colab": {
          "base_uri": "https://localhost:8080/"
        },
        "id": "a0417afb",
        "outputId": "9a1d99e4-e74c-46ca-fd8a-8459171b4608"
      },
      "outputs": [
        {
          "output_type": "execute_result",
          "data": {
            "text/plain": [
              "{'source': '/content/datasciencepdf.pdf', 'page': 0}"
            ]
          },
          "metadata": {},
          "execution_count": 8
        }
      ],
      "source": [
        "data[0].metadata"
      ]
    },
    {
      "cell_type": "code",
      "execution_count": 9,
      "id": "3b05850c",
      "metadata": {
        "colab": {
          "base_uri": "https://localhost:8080/"
        },
        "id": "3b05850c",
        "outputId": "fbdb67c0-4c03-4864-f6a9-25541abbf8d5"
      },
      "outputs": [
        {
          "output_type": "execute_result",
          "data": {
            "text/plain": [
              "1"
            ]
          },
          "metadata": {},
          "execution_count": 9
        }
      ],
      "source": [
        "len(data)"
      ]
    },
    {
      "cell_type": "code",
      "execution_count": 9,
      "id": "1d96881a",
      "metadata": {
        "id": "1d96881a"
      },
      "outputs": [],
      "source": []
    },
    {
      "cell_type": "code",
      "execution_count": 10,
      "id": "1ff7340c",
      "metadata": {
        "id": "1ff7340c"
      },
      "outputs": [],
      "source": [
        "# SPLITTER\n",
        "\n",
        "!pip install -qU langchain-text-splitters"
      ]
    },
    {
      "cell_type": "code",
      "execution_count": 11,
      "id": "7fcdf427",
      "metadata": {
        "id": "7fcdf427"
      },
      "outputs": [],
      "source": [
        "from langchain_text_splitters import CharacterTextSplitter"
      ]
    },
    {
      "cell_type": "code",
      "execution_count": 12,
      "id": "cdadc80a",
      "metadata": {
        "id": "cdadc80a"
      },
      "outputs": [],
      "source": [
        "# Extract the page content from each Document object\n",
        "#texts = [doc.page_content for doc in pages]"
      ]
    },
    {
      "cell_type": "code",
      "execution_count": 13,
      "id": "fb2f7428",
      "metadata": {
        "id": "fb2f7428"
      },
      "outputs": [],
      "source": [
        "# Split the text into documents using the CharacterTextSplitter\n",
        "text_splitter = CharacterTextSplitter(\n",
        "    separator=\"\\n\\n\",\n",
        "    chunk_size=1500,\n",
        "    chunk_overlap=1\n",
        ")"
      ]
    },
    {
      "cell_type": "code",
      "execution_count": 14,
      "id": "9ae688eb",
      "metadata": {
        "colab": {
          "base_uri": "https://localhost:8080/"
        },
        "id": "9ae688eb",
        "outputId": "c73e27ae-d080-48c1-e8f2-e1affec4e046"
      },
      "outputs": [
        {
          "output_type": "execute_result",
          "data": {
            "text/plain": [
              "<langchain_text_splitters.character.CharacterTextSplitter at 0x79ca1d72c2b0>"
            ]
          },
          "metadata": {},
          "execution_count": 14
        }
      ],
      "source": [
        "text_splitter"
      ]
    },
    {
      "cell_type": "code",
      "execution_count": 15,
      "id": "d4ec769f",
      "metadata": {
        "colab": {
          "base_uri": "https://localhost:8080/"
        },
        "id": "d4ec769f",
        "outputId": "7f7fc71f-9356-42d3-eb9b-c437296ff1b2"
      },
      "outputs": [
        {
          "output_type": "execute_result",
          "data": {
            "text/plain": [
              "[Document(page_content='Data science is an interdisciplinary academic ﬁeld[1] that uses sta ƟsƟcs, scienƟﬁc compu Ɵng, scienƟﬁc \\nmethods, processes, algorithms and systems to extract or extrapolate knowledge and insights from \\npotenƟally noisy, structured, or unstructured da ta.[2] \\n \\nData science also integrates domain knowledge from the underlying applica Ɵon domain (e.g., natural \\nsciences, informa Ɵon technology, and medicine).[3] Data science is mul Ɵfaceted and can be described as \\na science, a research paradigm, a research method, a discipline, a workﬂow, and a profession.[4] \\n \\nData science is \"a concept to unify sta ƟsƟcs, data analysis, informa Ɵcs, and their related methods\" to \\n\"understand and analyze actual phenomena\" with data.[5] It uses techniques and theories drawn from \\nmany ﬁelds within the context of mathema Ɵcs, staƟsƟcs, computer science, informa Ɵon science, and \\ndomain knowledge.[6] However, data science is diﬀerent from computer science and informa Ɵon \\nscience. Turing Award winner Jim Gray imagined data science as a \"fourth paradigm\" of science \\n(empirical, theor eƟcal, computa Ɵonal, and now data -driven) and asserted that \"everything about \\nscience is changing because of the impact of informa Ɵon technology\" and the data deluge.[7][8]  \\n \\nA data scien Ɵst is a professional who creates programming code and combines it with sta ƟsƟcal \\nknowledge to create insights from data.[9] \\n \\nFoundaƟons \\nData science is an interdisciplinary ﬁeld[10] focused on extrac Ɵng knowledge from typically large data \\nsets and applying the knowledge and insights from that data to solve problems in a wide range of \\napplicaƟon domains. The ﬁeld encompasses preparing data for analysis, formula Ɵng data science \\nproblems, analyzing data, developing data- driven solu Ɵons, and presen Ɵng ﬁndings to inform high -level \\ndecisions in a broad range of applica Ɵon domains. As such, it incorporates skills from computer science, \\nstaƟsƟcs, informa Ɵon science, mathema Ɵcs, data visualiza Ɵon, informa Ɵon visualiza Ɵon, data \\nsoniﬁcaƟon, data integra Ɵon, graphic design, complex systems, communica Ɵon and business.[11][12] \\nStaƟsƟcian Nathan Yau, drawing on Ben Fry, also links dat a science to human– computer interac Ɵon: \\nusers should be able to intui Ɵvely control and explore data.[13][14] In 2015, the American Sta ƟsƟcal \\nAssociaƟon idenƟﬁed database management, sta ƟsƟcs and machine learning, and distributed and \\nparallel syste ms as the three emerging founda Ɵonal professional communi Ɵes.[15] \\n \\nRelaƟonship to sta ƟsƟcs \\nMany staƟsƟcians, including Nate Silver, have argued that data science is not a new ﬁeld, but rather \\nanother name for sta ƟsƟcs.[16] Others argue that data science is dis Ɵnct from sta ƟsƟcs because it \\nfocuses on problems and techniques unique to digi tal data.[17] Vasant Dhar writes that sta ƟsƟcs \\nemphasizes quan ƟtaƟve data and descrip Ɵon. In contrast, data science deals with quan ƟtaƟve and \\nqualitaƟve data (e.g., from images, text, sensors, transac Ɵons, customer informa Ɵon, etc.) and \\nemphasize s predicƟon and ac Ɵon.[18] Andrew Gelman of Columbia University has described sta ƟsƟcs as \\na non-essenƟal part of data science.[19]', metadata={'source': '/content/datasciencepdf.pdf', 'page': 0})]"
            ]
          },
          "metadata": {},
          "execution_count": 15
        }
      ],
      "source": [
        "docs_mlops = text_splitter.split_documents(data)\n",
        "docs_mlops"
      ]
    },
    {
      "cell_type": "code",
      "execution_count": 16,
      "id": "853347a0",
      "metadata": {
        "colab": {
          "base_uri": "https://localhost:8080/"
        },
        "id": "853347a0",
        "outputId": "c181c1eb-f337-4b4e-9cce-a773f284c516"
      },
      "outputs": [
        {
          "output_type": "stream",
          "name": "stdout",
          "text": [
            "1\n"
          ]
        }
      ],
      "source": [
        "# Print the number of documents\n",
        "print(len(docs_mlops))"
      ]
    },
    {
      "cell_type": "code",
      "execution_count": 16,
      "id": "df8d4537",
      "metadata": {
        "id": "df8d4537"
      },
      "outputs": [],
      "source": []
    }
  ],
  "metadata": {
    "kernelspec": {
      "display_name": "Python 3 (ipykernel)",
      "language": "python",
      "name": "python3"
    },
    "language_info": {
      "codemirror_mode": {
        "name": "ipython",
        "version": 3
      },
      "file_extension": ".py",
      "mimetype": "text/x-python",
      "name": "python",
      "nbconvert_exporter": "python",
      "pygments_lexer": "ipython3",
      "version": "3.11.7"
    },
    "colab": {
      "provenance": []
    }
  },
  "nbformat": 4,
  "nbformat_minor": 5
}